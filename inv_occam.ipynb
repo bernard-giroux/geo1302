{
 "cells": [
  {
   "cell_type": "markdown",
   "metadata": {},
   "source": [
    "# Inversion d'Occam\n",
    "\n",
    "Avec cet exemple, on va examiner comment l'inversion d'Occam peut être utile pour estimer la distribution verticale de la conductivité électrique de la proche surface.  Les mesures utilisées ont été acquises avec un conductivimètre à induction EM38 de la compagnie Geonics, illustré ci-dessous.  Cette appareil est constitué d'une bobine émettrice et d'une bobine réceptrice, séparées d'un mètre.\n",
    "\n",
    "![alt text](EM38.jpg)\n",
    "\n",
    "En effectuant les mesures à des hauteurs croissantes, on se trouve à accroître le volume de sol investigué et ainsi accroître la profondeur d'investigation.  Par ailleurs, on change également la profondeur d'investigation en changeant l'orientation des bobines, une polarisation horizontale étant plus sensible aux horizons superficiels.  Le levé consiste ainsi en 18 mesures, acquises à 9 hauteurs différentes pour des bobines orientées verticalement et horizontalement.  \n",
    "\n",
    "| Hauteur (cm) | EMV (mS/m) | EMH (mS/m) |\n",
    "|--------------|------------|------------|\n",
    "|        0     |   134.5    |   117.4    |\n",
    "|       10     |   129.0    |    97.7    |\n",
    "|       20     |   120.5    |    81.7    |\n",
    "|       30     |   110.5    |    69.2    |\n",
    "|       40     |   100.5    |    59.6    |\n",
    "|       50     |    90.8    |    51.8    |\n",
    "|       75     |    70.9    |    38.2    |\n",
    "|      100     |    56.8    |    29.8    |\n",
    "|      150     |    38.5    |    19.9    |\n",
    "\n",
    "La modélisation de la réponse du EM38 fait appel à une fonction où l'admittance des couches doit être calculée de façon récursive (Hendrickx et al., 2002), et des expressions analytiques ne sont pas disponibles pour calculer la jacobienne.  \n",
    "\n",
    "Le module ```em``` contient deux classes permettant de calcul la réponse pour un sol stratifié.  Une méthode pour calculer la jacobienne par différences finies est aussi incluse.\n",
    "\n",
    "### Référence\n",
    "\n",
    "Hendrickx, J.M.H. and Borchers, B. and Corwin, D. L. and Lesch, S. M. and Hilgendorf, A. C. and Schlue, J., 2002.  *Inversion of Soil Conductivity Profiles from Electromagnetic Induction Measurements: Theory and Experimental Verification*.  Soil Sci. Soc. Am. J. 66:673–685.  doi: 10.2136/sssaj2002.0673"
   ]
  },
  {
   "cell_type": "code",
   "execution_count": 1,
   "metadata": {},
   "outputs": [
    {
     "name": "stdout",
     "output_type": "stream",
     "text": [
      "Help on module geo1302.em in geo1302:\n",
      "\n",
      "NAME\n",
      "    geo1302.em - Codes de modélisation EM.\n",
      "\n",
      "DESCRIPTION\n",
      "    Ces codes sont une adaptation des codes matlab disponibles à\n",
      "    \n",
      "    https://github.com/brianborchers/PEIP\n",
      "    \n",
      "    Created on Mon Apr  8 19:11:11 2019\n",
      "    \n",
      "    @author: giroux\n",
      "\n",
      "CLASSES\n",
      "    builtins.object\n",
      "        EM38\n",
      "        Ground\n",
      "    \n",
      "    class EM38(builtins.object)\n",
      "     |  EM38(h, ground, f=14600.0, r=1.0)\n",
      "     |  \n",
      "     |  Classe pour modéliser la réponse d'un conductivimètre EM-38.\n",
      "     |  \n",
      "     |  Paramètres\n",
      "     |  ----------\n",
      "     |  h : array numpy\n",
      "     |      hauteurs des mesures (m)\n",
      "     |  ground : object Ground\n",
      "     |      description du sol\n",
      "     |  f : float\n",
      "     |      Fréquence d'opération (Hz)\n",
      "     |  r : float\n",
      "     |      distance entre les bobines\n",
      "     |  \n",
      "     |  Methods defined here:\n",
      "     |  \n",
      "     |  G(self, sigma)\n",
      "     |      Modèle direct.\n",
      "     |      \n",
      "     |      Paramètres\n",
      "     |      ----------\n",
      "     |      sigma : array numpy\n",
      "     |          conductivité des couches (S/m)\n",
      "     |      \n",
      "     |      Retourne\n",
      "     |      --------\n",
      "     |      pred : array numpy\n",
      "     |          réponse prédite.  La 1re moitié des valeurs est la réponse pour des\n",
      "     |          bobines verticales aux différentes hauteurs de mesure, et la 2e\n",
      "     |          moitié est la réponse pour des bobines horizontales.\n",
      "     |  \n",
      "     |  __init__(self, h, ground, f=14600.0, r=1.0)\n",
      "     |      Initialize self.  See help(type(self)) for accurate signature.\n",
      "     |  \n",
      "     |  jac(self, sigma)\n",
      "     |      Calcul de la jacobienne.\n",
      "     |      \n",
      "     |      Paramètres\n",
      "     |      ----------\n",
      "     |      sigma : array numpy\n",
      "     |          conductivité des couches (S/m)\n",
      "     |      \n",
      "     |      Retourne\n",
      "     |      --------\n",
      "     |      J : array numpy\n",
      "     |          matrice jacobienne\n",
      "     |  \n",
      "     |  ----------------------------------------------------------------------\n",
      "     |  Data descriptors defined here:\n",
      "     |  \n",
      "     |  __dict__\n",
      "     |      dictionary for instance variables (if defined)\n",
      "     |  \n",
      "     |  __weakref__\n",
      "     |      list of weak references to the object (if defined)\n",
      "    \n",
      "    class Ground(builtins.object)\n",
      "     |  Ground(nlayer=11, d=0.2)\n",
      "     |  \n",
      "     |  Classe pour décrire un sol stratifié.\n",
      "     |  \n",
      "     |  Paramètres\n",
      "     |  ----------\n",
      "     |  nlayer : int\n",
      "     |      nombre de couches\n",
      "     |  d : float\n",
      "     |      épaisseur des couches\n",
      "     |  \n",
      "     |  Methods defined here:\n",
      "     |  \n",
      "     |  __init__(self, nlayer=11, d=0.2)\n",
      "     |      Initialize self.  See help(type(self)) for accurate signature.\n",
      "     |  \n",
      "     |  plot(self, sigma, ax=None, *args, **kwargs)\n",
      "     |      Trace la conductivité en fct de la profondeur.\n",
      "     |      \n",
      "     |      Paramètres\n",
      "     |      ----------\n",
      "     |      sigma : array numpy\n",
      "     |          conductivité des couches en S/m\n",
      "     |  \n",
      "     |  ----------------------------------------------------------------------\n",
      "     |  Data descriptors defined here:\n",
      "     |  \n",
      "     |  __dict__\n",
      "     |      dictionary for instance variables (if defined)\n",
      "     |  \n",
      "     |  __weakref__\n",
      "     |      list of weak references to the object (if defined)\n",
      "\n",
      "DATA\n",
      "    MU0 = 1.2566370614359173e-06\n",
      "    WT0 = array([ 2.10356205e-29, -1.26446936e-14,  4.6157...03e-11, -5.99...\n",
      "    WT1 = array([-2.37790011e-29,  7.97211929e-28,  3.8325...48e-28, -7.06...\n",
      "    YBASE = array([8.91709980e-14, 9.85491937e-14, 1.0891370...4431e+21, 4...\n",
      "    dir_path = '/Users/giroux/CloudStation/Cours/modelisation/python/geo13...\n",
      "\n",
      "FILE\n",
      "    /Users/giroux/CloudStation/Cours/modelisation/python/geo1302/em.py\n",
      "\n",
      "\n"
     ]
    }
   ],
   "source": [
    "import numpy as np\n",
    "import matplotlib.pyplot as plt\n",
    "plt.style.use('seaborn')\n",
    "\n",
    "from geo1302 import em\n",
    "\n",
    "np.random.seed(2021)  # pour la répétabilité\n",
    "\n",
    "help(em)"
   ]
  },
  {
   "cell_type": "markdown",
   "metadata": {},
   "source": [
    "On créé d'abord un modèle de sol comportant 11 couches de 20 cm chacune (paramètres par défaut de la classe ```Ground```).  On défini ensuite un vecteur contenant les hauteurs de mesure pour pouvoir initialiser un object ```EM38```."
   ]
  },
  {
   "cell_type": "code",
   "execution_count": 2,
   "metadata": {},
   "outputs": [],
   "source": [
    "hauteurs = np.array([0.0, 0.1, 0.2, 0.3, 0.4, 0.5, 0.75, 1.0, 1.50])\n",
    "\n",
    "sol = em.Ground()\n",
    "em38 = em.EM38(hauteurs, sol)"
   ]
  },
  {
   "cell_type": "markdown",
   "metadata": {},
   "source": [
    "La conductivité du modèle est représentative d'un sol sec en surface (conductivité faible), suivi d'une zone vadoze où la conductivité augmente graduellement.\n",
    "\n",
    "On peut maintenant générer des données, auxquelles on ajoute un bruit gaussien."
   ]
  },
  {
   "cell_type": "code",
   "execution_count": 3,
   "metadata": {},
   "outputs": [
    {
     "data": {
      "image/png": "[encoded data removed]",
      "text/plain": [
       "<Figure size 432x576 with 1 Axes>"
      ]
     },
     "metadata": {},
     "output_type": "display_data"
    }
   ],
   "source": [
    "mtrue = np.array([100, 95, 90, 95, 100, 130, 160, 200, 250, 310, 360])/1000.0\n",
    "\n",
    "datanf = em38.G(mtrue)\n",
    "data = datanf + 0.1*np.random.randn(datanf.size)\n",
    "\n",
    "sol.plot(mtrue)\n",
    "plt.title('Modèle vrai', fontsize=18)\n",
    "plt.show()"
   ]
  },
  {
   "cell_type": "markdown",
   "metadata": {},
   "source": [
    "À ce stade, on peut examiner le temps requis pour calculer la réponse."
   ]
  },
  {
   "cell_type": "code",
   "execution_count": 4,
   "metadata": {},
   "outputs": [
    {
     "name": "stdout",
     "output_type": "stream",
     "text": [
      "0.5673489570617676 secondes\n"
     ]
    }
   ],
   "source": [
    "import time\n",
    "\n",
    "t0 = time.time()\n",
    "datanf = em38.G(mtrue)\n",
    "t_em = time.time() - t0\n",
    "print(t_em, 'secondes')"
   ]
  },
  {
   "cell_type": "markdown",
   "metadata": {},
   "source": [
    "Ce temps ne semble pas excessif, mais la méthode ``G`` est appelée très fréquememt pour calculer la matrice jacobienne, et il pourrait être avantageux d'avoir une méthode plus rapide.  De fait, une autre version du code a été programmée en utilisant [cython].  Cython est un language pour créer des extensions en C qui peuvent être utilisées directement dans python.  Il est en particulier possible d'inclure des objets ``numpy`` en cython.  Vous êtes invités à examiner le fichier ``em_c.pyx`` dans le répertoire ``geo1302``et à le comparer avec le code python original (fichier ``em.py``).\n",
    "\n",
    "Voyons ce que la version cython donne.\n",
    "\n",
    "[cython]: https://cython.readthedocs.io/en/latest/"
   ]
  },
  {
   "cell_type": "code",
   "execution_count": 5,
   "metadata": {},
   "outputs": [
    {
     "name": "stdout",
     "output_type": "stream",
     "text": [
      "0.12567400932312012 secondes, donc 4.514449408573082 fois plus rapide\n"
     ]
    }
   ],
   "source": [
    "from geo1302 import em_c\n",
    "\n",
    "em38_c = em_c.EM38(hauteurs, sol)\n",
    "t0 = time.time()\n",
    "datanf = em38_c.G(mtrue)\n",
    "t_em_c = time.time() - t0\n",
    "print(t_em_c, 'secondes, donc', t_em/t_em_c, 'fois plus rapide')"
   ]
  },
  {
   "cell_type": "markdown",
   "metadata": {},
   "source": [
    "Le gain n'est pas négligeable...  La version cython sera donc utilisée.\n",
    "\n",
    "Examinons maintenant la solution obtenue avec la méthode de Marquardt-Levenberg, qui ne comporte pas de terme de régularisation."
   ]
  },
  {
   "cell_type": "code",
   "execution_count": 6,
   "metadata": {},
   "outputs": [],
   "source": [
    "def lm(G, jac, d, p0, maxit=50, tol=1.e-8):\n",
    "    \"\"\"\n",
    "    algorithme de Levenberg-Marquardt (adapté des codes Matlab de B. Borchers)\n",
    "    \n",
    "    https://github.com/brianborchers/PEIP/blob/master/Examples/chap10/ex_10_2/lm.m\n",
    "    \n",
    "    Paramètres\n",
    "    ----------\n",
    "    G : fonction G(m)\n",
    "        fonction calculant le modèle direct\n",
    "    jac : fonction jac(m)\n",
    "        fonction calculant la jacobienne\n",
    "    d : array numpy\n",
    "        données\n",
    "    p0 : array numpy\n",
    "        modèle initial\n",
    "    maxit : int\n",
    "        nombre maximal d'itération\n",
    "    tol : float\n",
    "        critère d'arrêt\n",
    "        \n",
    "    Retourne\n",
    "    --------\n",
    "    p : array numpy\n",
    "        modèle estimé\n",
    "    \"\"\"\n",
    "    p = m0.copy()\n",
    "    fp = np.linalg.norm(G(p) - d)\n",
    "    oldp = p0*2\n",
    "    oldfp = fp*2\n",
    "    \n",
    "    lmbda = 0.0001\n",
    "    iteration = 1\n",
    "    maxiteration = maxit\n",
    "    while iteration < maxiteration:\n",
    "        J = jac(p)\n",
    "        # Compute rhs=-J'*f\n",
    "        #\n",
    "        #    rhs=-J'*feval(func,p);\n",
    "        #\n",
    "        # We use a clever trick here.  The least squares problem\n",
    "        #\n",
    "        #  min || [ J              ] s - [ -F ] ||\n",
    "        #      || [ sqrt(lambda)*I ]     [ 0  ] ||\n",
    "        #\n",
    "        # Has the normal equations solution\n",
    "        #\n",
    "        #  s=-inv(J'*J+lambda*I)*J'*F\n",
    "        #\n",
    "        # which is precisely the LM step.  We can solve this least squares problem\n",
    "        # more accurately using the QR factorization than by computing \n",
    "        # inv(J'*J+lambda*I) explicitly,\n",
    "        rhs = -J.T @ (G(p) - d)\n",
    "        \n",
    "        if ((np.linalg.norm(rhs) < np.sqrt(tol)*(1+np.abs(fp))) and\n",
    "            (np.abs(oldfp-fp) < tol*(1+np.abs(fp))) and\n",
    "            (np.linalg.norm(oldp-p) < np.sqrt(tol)*(1+np.linalg.norm(p)))):\n",
    "            return p\n",
    "\n",
    "        myrhs = np.r_[-(G(p) - d), np.zeros((len(p), ))]\n",
    "        \n",
    "        # least-squares\n",
    "        # t0 = time.time()\n",
    "        sol = np.linalg.lstsq(np.r_[J, np.sqrt(lmbda)*np.eye(len(p))], myrhs,\n",
    "                              rcond=None)\n",
    "        s = sol[0]\n",
    "        # print('lstsq', time.time()-t0)\n",
    "        # QR\n",
    "        #    les tests montrent que c'est ~2 fois plus lent... \n",
    "        # t0 = time.time()\n",
    "        # q, r = np.linalg.qr(np.r_[J, np.sqrt(lmbda)*np.eye(len(p))])\n",
    "        # myrhs = q.T @ myrhs\n",
    "        # s = np.dot(np.linalg.inv(r), myrhs)\n",
    "        # print('QR', time.time()-t0)\n",
    "        \n",
    "        # See whether this improves chisq or not.\n",
    "\n",
    "        fpnew = np.linalg.norm(G(p+s) - d)**2\n",
    "        \n",
    "        # If this improves f, then make the step, and decrease lambda and make\n",
    "        # the step.\n",
    "        if fpnew < fp:\n",
    "            oldp = p.copy()\n",
    "            oldfp = fp.copy()\n",
    "            p += s\n",
    "            fp = fpnew.copy()\n",
    "            lmbda = lmbda/2\n",
    "            if (lmbda < 1.0e-12):\n",
    "                lmbda = 1.0e-12\n",
    "        else:\n",
    "            # Didn't improve f, increase lambda, and try again\n",
    "            lmbda = lmbda*2.5\n",
    "            if (lmbda > 1.0e16):\n",
    "                lmbda = 1.0e16\n",
    "        iteration += 1\n",
    "    return p\n",
    "\n",
    "# Utilisation de la fonction\n",
    "\n",
    "m0 = 200.0/1000.0 + np.zeros(mtrue.shape)\n",
    "\n",
    "t0 = time.time()\n",
    "mlm = lm(em38_c.G, em38_c.jac, data, m0, 50, 1.e-6)\n",
    "t_lm = time.time() - t0"
   ]
  },
  {
   "cell_type": "code",
   "execution_count": 7,
   "metadata": {},
   "outputs": [
    {
     "data": {
      "image/png": "[encoded data removed]",
      "text/plain": [
       "<Figure size 576x432 with 2 Axes>"
      ]
     },
     "metadata": {},
     "output_type": "display_data"
    }
   ],
   "source": [
    "plt.figure(figsize=(8,6))\n",
    "ax1 = plt.subplot(121)\n",
    "sol.plot(mlm, ax1, label='estimé')\n",
    "sol.plot(mtrue, ax1, label='vrai')\n",
    "ax1.legend()\n",
    "plt.title('Modèle estimé - Marquardt', fontsize=16)\n",
    "plt.subplot(122)\n",
    "plt.plot(em38_c.G(mlm)-data, 'o')\n",
    "plt.xlabel('Mesure no', fontsize=14)\n",
    "plt.ylabel('Résidu (mS/m)', fontsize=14)\n",
    "plt.tight_layout()\n",
    "plt.show()"
   ]
  },
  {
   "cell_type": "markdown",
   "metadata": {},
   "source": [
    "On peut remarquer des valeurs totalement irréalistes et des variations très brusques dans le modèle, ce qui ne correspond pas au résultat attendu.  La raison est que **J**^T**J** est très mal conditionnée."
   ]
  },
  {
   "cell_type": "code",
   "execution_count": 8,
   "metadata": {},
   "outputs": [
    {
     "data": {
      "text/plain": [
       "4.547764380559004e+17"
      ]
     },
     "execution_count": 8,
     "metadata": {},
     "output_type": "execute_result"
    }
   ],
   "source": [
    "J = em38_c.jac(mtrue)\n",
    "np.linalg.cond(J.T @ J)"
   ]
  },
  {
   "cell_type": "markdown",
   "metadata": {},
   "source": [
    "Voyons maintenant l'inversion d'Occam."
   ]
  },
  {
   "cell_type": "code",
   "execution_count": 9,
   "metadata": {},
   "outputs": [],
   "source": [
    "def get_D(n, deg):\n",
    "    \"\"\"Matrice de lissage.\n",
    "    \"\"\"\n",
    "    if deg == 0:\n",
    "        return np.eye(n)\n",
    "    \n",
    "    df = np.hstack((np.array([-1, 1]), np.zeros((deg-1,))))\n",
    "    for i in range(1, deg):\n",
    "        # take the difference of the lower order derivative and itself shifted left \n",
    "        # to get a derivative one order higher\n",
    "        df = np.hstack((np.zeros((1,)), df[:deg])) - np.hstack((df[:deg], np.zeros((1,))))\n",
    "\n",
    "    dn  = n - deg\n",
    "    D = np.zeros((dn, n))\n",
    "    for d in range(deg+1):\n",
    "        for i in range(dn):\n",
    "            j = i+d\n",
    "            D[i, j] = df[d]\n",
    "    return D\n",
    "    \n",
    "\n",
    "def occam(G, jac, D, d, m0, delta):\n",
    "    \"\"\"\n",
    "    Inversion d'Occam (adapté des codes Matlab de B. Borchers)\n",
    "    \n",
    "    https://github.com/brianborchers/PEIP/blob/master/Lib/occam.m\n",
    "    \n",
    "    Paramètres\n",
    "    ----------\n",
    "    G : fonction G(m)\n",
    "        fonction calculant le modèle direct\n",
    "    jac : fonction jac(m)\n",
    "        fonction calculant la jacobienne\n",
    "    d : array numpy\n",
    "        données\n",
    "    m0 : array numpy\n",
    "        modèle initial\n",
    "    delta : float\n",
    "        seuil d'application du principe de divergence (discrepancy)\n",
    "        \n",
    "    Retourne\n",
    "    --------\n",
    "    m : array numpy\n",
    "        modèle estimé\n",
    "    \"\"\"\n",
    "    \n",
    "    m = m0.copy()\n",
    "    oldm = np.zeros(m.shape)\n",
    "    it = 0\n",
    "    \n",
    "    DTD = D.T.dot(D)\n",
    "    \n",
    "    Gm = G(m)\n",
    "    mchi2 = np.linalg.norm(Gm - d)**2\n",
    "    \n",
    "    # recherche \"force brute\" du alpha optimal\n",
    "    alphas = np.logspace(-20, 0, 100)\n",
    "    chis = np.empty((alphas.size,))\n",
    "\n",
    "    while (np.linalg.norm(oldm-m)/np.linalg.norm(m) > 5.0e-3) or (mchi2 > delta*delta*1.01):\n",
    "        it += 1\n",
    "        if it > 30:\n",
    "            return m\n",
    "        \n",
    "        oldm = m.copy()\n",
    "        \n",
    "        J = jac(m)\n",
    "        \n",
    "        dhat = d - Gm + J.dot(m)\n",
    "                \n",
    "        for i in range(alphas.size):\n",
    "            M = J.T.dot(J) + alphas[i]**2*DTD\n",
    "            if np.linalg.cond(M) < 1.e15:\n",
    "                \n",
    "                m = np.linalg.solve(M, J.T.dot(dhat))\n",
    "                \n",
    "                chis[i] = np.linalg.norm(G(m) - d)**2\n",
    "            else:\n",
    "                chis[i] = np.inf\n",
    "                \n",
    "        y = chis.min()\n",
    "        if y > delta*delta:\n",
    "            i = np.argmin(chis)\n",
    "            alpha = alphas[i]\n",
    "        else:\n",
    "            i = np.where(chis<=delta*delta)\n",
    "            alpha = alphas[np.max(i)]\n",
    "            \n",
    "        m = np.linalg.solve(J.T.dot(J) + alpha**2*DTD, J.T.dot(dhat))\n",
    "        Gm = G(m)\n",
    "        mchi2 = np.linalg.norm(Gm - d)**2\n",
    "        \n",
    "    return m\n",
    "\n",
    "\n",
    "# Utilisation de la fonction\n",
    "\n",
    "D = get_D(mtrue.size, 2)\n",
    "delta = 0.1 * np.sqrt(18)\n",
    "t0 = time.time()\n",
    "moccam = occam(em38_c.G, em38_c.jac, D, data, m0, delta)\n",
    "t_occam = time.time() - t0"
   ]
  },
  {
   "cell_type": "code",
   "execution_count": 10,
   "metadata": {},
   "outputs": [
    {
     "data": {
      "image/png": "[encoded data removed]",
      "text/plain": [
       "<Figure size 576x432 with 2 Axes>"
      ]
     },
     "metadata": {},
     "output_type": "display_data"
    }
   ],
   "source": [
    "plt.figure(figsize=(8,6))\n",
    "ax1 = plt.subplot(121)\n",
    "sol.plot(moccam, ax1, label='estimé')\n",
    "sol.plot(mtrue, ax1, label='vrai')\n",
    "plt.legend()\n",
    "plt.title('Modèle estimé - Occam', fontsize=16)\n",
    "plt.subplot(122)\n",
    "plt.plot(em38_c.G(moccam)-data, 'o')\n",
    "plt.xlabel('Mesure no', fontsize=14)\n",
    "plt.ylabel('Résidu (mS/m)', fontsize=14)\n",
    "plt.tight_layout()\n",
    "plt.show()"
   ]
  },
  {
   "cell_type": "markdown",
   "metadata": {},
   "source": [
    "L'algorithme d'Occam donne un résultat beaucoup plus réaliste et satisfaisant.  Le temps de calcul est aussi avantageux."
   ]
  },
  {
   "cell_type": "code",
   "execution_count": 11,
   "metadata": {},
   "outputs": [
    {
     "name": "stdout",
     "output_type": "stream",
     "text": [
      "87.83552289009094 18.549752950668335\n"
     ]
    }
   ],
   "source": [
    "print(t_lm, t_occam)"
   ]
  },
  {
   "cell_type": "code",
   "execution_count": null,
   "metadata": {},
   "outputs": [],
   "source": []
  }
 ],
 "metadata": {
  "kernelspec": {
   "display_name": "Python 3",
   "language": "python",
   "name": "python3"
  },
  "language_info": {
   "codemirror_mode": {
    "name": "ipython",
    "version": 3
   },
   "file_extension": ".py",
   "mimetype": "text/x-python",
   "name": "python",
   "nbconvert_exporter": "python",
   "pygments_lexer": "ipython3",
   "version": "3.8.9"
  }
 },
 "nbformat": 4,
 "nbformat_minor": 2
}
